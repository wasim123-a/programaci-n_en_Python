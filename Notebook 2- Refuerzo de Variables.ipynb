{
 "cells": [
  {
   "cell_type": "markdown",
   "id": "4cf84ce0",
   "metadata": {},
   "source": [
    "# Python Básico: variables numéricas y de texto, y operaciones con ellas\n",
    "Si todavía no sabes las teclas básicas para usar Jupyter, recuerda que hicimos un notebook donde las explicábamos. Puedes pulsar en *[este enlace](https://github.com/drancope-clases/programar-con-python/blob/main/Notebooks/Notebook%200-%20Usar%20Jupyter.ipynb)* para recordarlo, aunque lo mejor es descargarlo y abrirlo en tu máquina con **Jupyter Notebook**.\n",
    "\n",
    "## Variables\n",
    "Para aprender más, *[lee esto](https://github.com/drancope-clases/programar-con-python-drancope/blob/main/elementos_python.md)*.\n",
    "\n",
    "Una variable es un espacio de la memoria RAM del ordenador en el que el programa, mientras está funcionando, guarda un dato.\n",
    "\n",
    "Para crear las variables y asignarles un contenido se usa el operador de asignación: **=**\n",
    "#### Ejemplos:\n",
    "```python\n",
    "a = 7\n",
    "saludo = \"hola\"\n",
    "contador = 0\n",
    "dias = ['lunes', 'martes', 'miércoles']\n",
    "persona = {'nombre': 'Pedro', 'edad': 14, 'altura': 165}\n",
    "pi = 4.14159\n",
    "```\n",
    "Como se puede ver, hay unos cuantos *tipos* de variable. Se puede preguntar a **Python** cuál es el *tipo* de una variable, escribiendo el nombre de la misma dentro de los paréntesis de la función type().\n",
    "\n",
    "Para que ésto funcione, primero tenemos que crear la variable.\n",
    "\n",
    "<p style=\"font-family:couriernew; font-size:110%\"> Pero antes, vamos a ver qué pasa si la variable todavía no existe.</p>\n",
    "\n",
    "### Ejecuta la siguiente celda:"
   ]
  },
  {
   "cell_type": "code",
   "execution_count": 5,
   "id": "d491f2bd",
   "metadata": {},
   "outputs": [
    {
     "data": {
      "text/plain": [
       "int"
      ]
     },
     "execution_count": 5,
     "metadata": {},
     "output_type": "execute_result"
    }
   ],
   "source": [
    "type(numero)"
   ]
  },
  {
   "cell_type": "markdown",
   "id": "75ece0cc",
   "metadata": {},
   "source": [
    "Si has pulsado **Ctrl+Enter** en la celda anterior, habrás visto que sale un error: `NameError: name 'numero' is not defined`.\n",
    "\n",
    "Es importante leer ese error. Nos dice que `numero` no está definido todavía. *No existe*.\n",
    "\n",
    "Antes de *ejecutar* esa celda tenemos que crear la variable. Haz **Ctrl+Enter** en la siguiente celda, y luego muévete a la de arriba y pulsa **Ctrl+enter** en ella.\n"
   ]
  },
  {
   "cell_type": "code",
   "execution_count": 4,
   "id": "7badb678",
   "metadata": {},
   "outputs": [],
   "source": [
    "numero = 210"
   ]
  },
  {
   "cell_type": "markdown",
   "id": "53f140a1",
   "metadata": {},
   "source": [
    "### Para qué sirve una variable, ya en plan útil: La edad que tienes.\n",
    "Usar variables es importante, porque podemos ir cambiando el contenido mientras está funcionando el programa.\n",
    "\n",
    "Todos sabemos que la mayoría de edad es de 18 años. Esto no cambia. No es una variable.\n",
    "\n",
    "Pero los usuarios del programa pueden tener distinta edad, y la vamos a preguntar y guardar en una variable:\n",
    "\n",
    "```python\n",
    "edad = int(input(\"Escribe tu edad: \"))\n",
    "if edad < 18:\n",
    "    print(\"No puedes sacarte el carnet de conducir.\")\n",
    "if edad >= 18:\n",
    "    print(\"Puedes sacarte el carnet de conducir.\")\n",
    "```\n",
    "\n",
    "Copia este programa en la celda de debajo, y pruébalo varias veces. Cada vez puedes poner una edad distinta."
   ]
  },
  {
   "cell_type": "code",
   "execution_count": null,
   "id": "66aef71a",
   "metadata": {},
   "outputs": [],
   "source": [
    "# copia en esta celda el programa de ejemplo de arriba\n",
    "\n",
    "\n",
    "\n",
    "\n"
   ]
  },
  {
   "cell_type": "markdown",
   "id": "c91b053f",
   "metadata": {},
   "source": [
    "## Comentarios en los programas\n",
    "\n",
    "Ya vimos que en una celda de texto, como ésta, cuando ponemos un #, un espacio y una frase, esto se verá como un *encabezado*. \n",
    "\n",
    "Pero en **Python**, las cuando hay un texto que empieza por # es un ***comentario***, y el programa *intérprete* ignora a partir de ese signo. No hace nada con esas líneas. Sirven solamente para que los lectores las miren, y **el programador que las ha escrito explica en ellas para qué sirven las instrucciones**.\n",
    "\n",
    "No es ninguna tontería: **Todos los programadores se dejan este tipo de mensajes, porque dentro de unos días habrán olvidado lo que hacía ese trozo de programa**. \n",
    "\n",
    "**Cuantos más comentarios, más fácil de entender**.\n",
    "\n",
    "Mira este ejemplo:\n",
    "\n",
    "```python\n",
    "# Preguntamos al usuario su edad\n",
    "edad = int(input(\"Escribe tu edad: \"))\n",
    "\n",
    "#Ahora comparamos lo que ha metido el usuario con la mayoría de edad, que es 18. Primero vemos si es menor.\n",
    "if edad < 18:\n",
    "    print(\"No puedes sacarte el carnet de conducir.\") # Se imprime el mensaje correspondiente a ser menor\n",
    "#La comparación siguiente es para ver si es mayor o igual que 18.\n",
    "if edad >= 18:\n",
    "    print(\"Puedes sacarte el carnet de conducir.\")\n",
    "```\n",
    "\n",
    "Se lee mucho mejor. Y los programas reales no son tan sencillos como ese.\n",
    "\n",
    "Puedes copiar y pegar ese programa en la celda de abajo, y ver que hace lo mismo que el primero."
   ]
  },
  {
   "cell_type": "code",
   "execution_count": null,
   "id": "4ef5d3ff",
   "metadata": {},
   "outputs": [],
   "source": []
  },
  {
   "cell_type": "markdown",
   "id": "8501d018",
   "metadata": {},
   "source": [
    "### Variables de texto (**str**)\n",
    "\n",
    "Las *cadenas* de texto son secuencias de *caracteres*. O sea, series de letras, números o signos, que se pueden escribir con teclado:\n",
    "```python\n",
    "cadena1 = 'hola'\n",
    "cadena2 = \"Andrés\"\n",
    "cadena3 = '''El círculo de radio 7 tiene circunferencia 2*¶*7'''\n",
    "```\n",
    "\n",
    "Las cadenas de texto deben estar encerradas entre comillas o apóstrofes. Puede ser un apóstrofe sólo, o unas comillas dobles, o tres apóstrofes. Da igual, pero tienen que ser iguales para empezar y para terminar.\n",
    "\n",
    "Estas *cadenas*, en inglés, se llaman ***strings***. Es muy común. La librería de funciones para manejarlas se llama *str*.\n",
    "\n",
    "No es lo mismo un número que una cadena de caracteres. Con los números puedo hacer operaciones numéricas. Con las cadenas puedo hacer operaciones de cadenas, como unirlas, cortarlas, o buscar fragmentos.\n",
    "\n",
    "Puedo escribir unas comillas dentro de las cadenas si utilizo el apóstrofe como *delimitador* de la cadena:\n",
    "\n",
    "```python\n",
    "mensaje = 'El mayor de todos los números se llama \"máximo\".'\n",
    "```\n",
    "\n",
    "Y al revés también:\n",
    "\n",
    "\n",
    "```python\n",
    "mensaje = \"El menor de todos los números se llama 'mínimo'.\"\n",
    "```\n",
    "\n",
    "Comprueba el funcionamiento:"
   ]
  },
  {
   "cell_type": "code",
   "execution_count": 10,
   "id": "fe6e0456",
   "metadata": {},
   "outputs": [
    {
     "name": "stdout",
     "output_type": "stream",
     "text": [
      "El mayor de todos los números se llama \"máximo\".\n",
      "El menor de todos los números se llama 'mínimo'.\n"
     ]
    }
   ],
   "source": [
    "mensaje = 'El mayor de todos los números se llama \"máximo\".'\n",
    "print(mensaje)\n",
    "mensaje = \"El menor de todos los números se llama 'mínimo'.\"\n",
    "print(mensaje)"
   ]
  },
  {
   "cell_type": "markdown",
   "id": "5cd01aab",
   "metadata": {},
   "source": [
    "Has podido hacer **Ctrl+Enter** en la celda de arriba para ejecutarla, pero ahora...\n",
    "\n",
    "### ...vamos a hacerlo mal.\n",
    "\n",
    "## El orden de ejecución.\n",
    "Primero, comprueba lo siguiente:"
   ]
  },
  {
   "cell_type": "code",
   "execution_count": 11,
   "id": "e482c583",
   "metadata": {},
   "outputs": [
    {
     "name": "stdout",
     "output_type": "stream",
     "text": [
      "El menor de todos los números se llama 'mínimo'.\n",
      "El menor de todos los números se llama 'mínimo'.\n"
     ]
    }
   ],
   "source": [
    "mensaje = 'El mayor de todos los números se llama \"máximo\".'\n",
    "mensaje = \"El menor de todos los números se llama 'mínimo'.\"\n",
    "print(mensaje)\n",
    "print(mensaje)"
   ]
  },
  {
   "cell_type": "markdown",
   "id": "cb87a9f9",
   "metadata": {},
   "source": [
    "Aquí, el resultado se entendía claramente, pero imagina que las instrucciones se distribuyen en varias celdas:"
   ]
  },
  {
   "cell_type": "code",
   "execution_count": 12,
   "id": "3862710c",
   "metadata": {},
   "outputs": [],
   "source": [
    "mensaje = 'El mayor de todos los números se llama \"máximo\".' # Instrucción 1"
   ]
  },
  {
   "cell_type": "code",
   "execution_count": 13,
   "id": "129242a1",
   "metadata": {},
   "outputs": [],
   "source": [
    "mensaje = \"El menor de todos los números se llama 'mínimo'.\" # Instrucción 2"
   ]
  },
  {
   "cell_type": "code",
   "execution_count": 14,
   "id": "5f9b8786",
   "metadata": {},
   "outputs": [
    {
     "name": "stdout",
     "output_type": "stream",
     "text": [
      "El menor de todos los números se llama 'mínimo'.\n"
     ]
    }
   ],
   "source": [
    "print(mensaje)  # Instrucción 3"
   ]
  },
  {
   "cell_type": "markdown",
   "id": "0b84273a",
   "metadata": {},
   "source": [
    "Ejecuta primero la instrucción 2, después la 3, después la 1, y finalmente la 3 otra vez.\n",
    "\n",
    "Como ves, el contenido de la variable **mensaje** va cambiando, y la instrucción 3 imprime el último valor que guardamos en esa variable.\n",
    "\n",
    "**Tened cuidado con eso. Es mejor hacer que las variables cambien y se muestren todas dentro de la misma celda, porque a veces los cambios del contenido pueden estar muy lejos, y no los vemos a simplel vista.**"
   ]
  },
  {
   "cell_type": "markdown",
   "id": "cc627a93",
   "metadata": {},
   "source": [
    "## Operaciones con cadenas de texto.\n",
    "\n",
    "### Uniones\n",
    "\n",
    "Si sumo dos cadenas, se obtiene una cadena con la segunda siguiendo a la primera:\n",
    "\n",
    "\"Hola,\" + \"amigo\" resulta en la cadena \"Hola,amigo\". \n",
    "\n",
    "No hay ningún espacio dentro de mis cadenas iniciales, así que tampoco en el resultado.\n",
    "\n",
    "### más uniones\n",
    "\n",
    "También podemos unir dos cadenas con comas, y entonces, *milagrosamente*, aparecen los espacios.\n",
    "\n",
    "```python\n",
    "print(\"hola,\", \"amigo\")\n",
    "```\n",
    "\n",
    "Compruébalo, haciendo **Ctrl+Enter**:"
   ]
  },
  {
   "cell_type": "code",
   "execution_count": 15,
   "id": "c95d7b60",
   "metadata": {},
   "outputs": [
    {
     "name": "stdout",
     "output_type": "stream",
     "text": [
      "hola, amigo\n"
     ]
    }
   ],
   "source": [
    "print(\"hola,\", \"amigo\")"
   ]
  },
  {
   "cell_type": "markdown",
   "id": "d79f4ba0",
   "metadata": {},
   "source": [
    "### Índices\n",
    "\n",
    "**Cada letra de una cadena tiene un índice de posición, empezando por cero.**\n",
    "\n",
    "Los índices se ponen entre corchetes `[ ]`\n",
    "\n",
    "\"Hola\"[0] da como resultado 'H'.\n",
    "\n",
    "Compruébalo:"
   ]
  },
  {
   "cell_type": "code",
   "execution_count": 16,
   "id": "33eb3890",
   "metadata": {},
   "outputs": [
    {
     "name": "stdout",
     "output_type": "stream",
     "text": [
      "H\n"
     ]
    }
   ],
   "source": [
    "print(\"Hola\"[0])"
   ]
  },
  {
   "cell_type": "markdown",
   "id": "100b6dec",
   "metadata": {},
   "source": [
    "Por cierto, también podría escribir lo de arriba poniendo solamente `\"Hola\"[0]` sin la función `print()`.\n",
    "\n",
    "Hazlo aquí debajo y escribe en la siguiente celda de texto qué ves que haya salido diferente."
   ]
  },
  {
   "cell_type": "code",
   "execution_count": null,
   "id": "8ca7d9ba",
   "metadata": {},
   "outputs": [],
   "source": []
  },
  {
   "cell_type": "markdown",
   "id": "88cb8b4d",
   "metadata": {},
   "source": [
    "Escribe qué has visto distinto:\n",
    "\n",
    "\n",
    "\n"
   ]
  },
  {
   "cell_type": "markdown",
   "id": "76d3eda0",
   "metadata": {},
   "source": [
    "### Cortar cadenas:\n",
    "\n",
    "Podemos poner dos índices separados por **:** dentro de los corchetes:"
   ]
  },
  {
   "cell_type": "code",
   "execution_count": 17,
   "id": "53eea56d",
   "metadata": {},
   "outputs": [
    {
     "data": {
      "text/plain": [
       "'Esto'"
      ]
     },
     "execution_count": 17,
     "metadata": {},
     "output_type": "execute_result"
    }
   ],
   "source": [
    "'Esto es una frase completa'[0:4]"
   ]
  },
  {
   "cell_type": "code",
   "execution_count": 19,
   "id": "243ad113",
   "metadata": {},
   "outputs": [
    {
     "data": {
      "text/plain": [
       "'frase completa'"
      ]
     },
     "execution_count": 19,
     "metadata": {},
     "output_type": "execute_result"
    }
   ],
   "source": [
    "'Esto es una frase completa'[12:26]"
   ]
  },
  {
   "cell_type": "markdown",
   "id": "c1d50ae4",
   "metadata": {},
   "source": [
    "Podemos usar solamente el primero de los números, o el último (aunque esto es lo primero que hicimos):"
   ]
  },
  {
   "cell_type": "code",
   "execution_count": 20,
   "id": "bd83d4a5",
   "metadata": {},
   "outputs": [
    {
     "data": {
      "text/plain": [
       "'frase completa'"
      ]
     },
     "execution_count": 20,
     "metadata": {},
     "output_type": "execute_result"
    }
   ],
   "source": [
    "'Esto es una frase completa'[12:]"
   ]
  },
  {
   "cell_type": "code",
   "execution_count": 21,
   "id": "93175baf",
   "metadata": {},
   "outputs": [
    {
     "data": {
      "text/plain": [
       "'Esto'"
      ]
     },
     "execution_count": 21,
     "metadata": {},
     "output_type": "execute_result"
    }
   ],
   "source": [
    "'Esto es una frase completa'[:4]"
   ]
  },
  {
   "cell_type": "markdown",
   "id": "64b5944c",
   "metadata": {},
   "source": [
    "También podemos usar números negativos:"
   ]
  },
  {
   "cell_type": "code",
   "execution_count": 22,
   "id": "d6341283",
   "metadata": {},
   "outputs": [
    {
     "data": {
      "text/plain": [
       "'completa'"
      ]
     },
     "execution_count": 22,
     "metadata": {},
     "output_type": "execute_result"
    }
   ],
   "source": [
    "'Esto es una frase completa'[-8:]"
   ]
  },
  {
   "cell_type": "markdown",
   "id": "700bda8d",
   "metadata": {},
   "source": [
    "También podemos asignar estos resultados a una nueva variable:"
   ]
  },
  {
   "cell_type": "code",
   "execution_count": 25,
   "id": "4b4e0a19",
   "metadata": {},
   "outputs": [
    {
     "data": {
      "text/plain": [
       "'En un lu'"
      ]
     },
     "execution_count": 25,
     "metadata": {},
     "output_type": "execute_result"
    }
   ],
   "source": [
    "letras = \"En un lugar de la mancha\"[:8]\n",
    "letras"
   ]
  },
  {
   "cell_type": "markdown",
   "id": "323e39ed",
   "metadata": {},
   "source": [
    "**Fíjate en la celda de encima: no tiene *print()*.**\n",
    "\n",
    "Es lo mismo que hicimos arriba. Cuando pongo *print()*, sale por pantalla el resultado de la función, sin más. Pero si solamente pongo la variable, entonces esa línea es una ***expresión*** que **Python** calcula, y de todas las cosas que va calculando, me enseña la última en un trozo de pantalla reservado para mensajes y errores. En esos trozos sale el indicador <code style='color:red;'>out [xx]</code>, que se llama *salida estándar*."
   ]
  },
  {
   "cell_type": "markdown",
   "id": "8b7011e1",
   "metadata": {},
   "source": [
    "### Más cortes\n",
    "\n",
    "La función split() parte mis cadenas por el carácter que yo le pida. Si no le digo cuál, usará el espacio. El resultado lo transforma a un tipo de variable especial, llamado **lista**, que es una secuencia de datos, separados por comas."
   ]
  },
  {
   "cell_type": "code",
   "execution_count": 26,
   "id": "8d18931b",
   "metadata": {},
   "outputs": [
    {
     "name": "stdout",
     "output_type": "stream",
     "text": [
      "['En', 'un', 'lugar', 'de', 'la', 'Mancha']\n",
      "['En ', 'n l', 'gar de la Mancha']\n"
     ]
    }
   ],
   "source": [
    "print('En un lugar de la Mancha'.split())\n",
    "\n",
    "print('En un lugar de la Mancha'.split('u'))\n"
   ]
  },
  {
   "cell_type": "markdown",
   "id": "3596b9b0",
   "metadata": {},
   "source": [
    "**Ojo: hay que poner un punto entre la cadena de texto y la función split()**.\n",
    "\n",
    "Estas funciones están incorporadas dentro de las cadenas de texto. Son ***métodos***. Todas las variables del lenguaje **python** tienen **atributos** y **métodos**, que son *datos* y *funciones* que vienen definidos junto con la variable. Según el tipo de la variable, podrá tener unos atributos y métodos u otros.\n",
    "\n",
    "Son interesantes los métodos .upper(), .lower(), .isdigit(), .isalpha(), .isnumeric(), .capitalize(), .title() y .join()"
   ]
  },
  {
   "cell_type": "code",
   "execution_count": 29,
   "id": "2bc04255",
   "metadata": {},
   "outputs": [
    {
     "name": "stdout",
     "output_type": "stream",
     "text": [
      "EN UN LU\n",
      "en un lu\n",
      "False\n",
      "False\n",
      "False\n",
      "En un lu\n",
      "En Un Lu\n"
     ]
    }
   ],
   "source": [
    "print(letras.upper())\n",
    "print(letras.lower())\n",
    "print(letras.isdigit())\n",
    "print(letras.isalpha())\n",
    "print(letras.isnumeric())\n",
    "print(letras.capitalize())\n",
    "print(letras.title())\n"
   ]
  },
  {
   "cell_type": "markdown",
   "id": "a3152293",
   "metadata": {},
   "source": [
    "### Longitud de una cadena\n",
    "\n",
    "Se utiliza la función len(), que no es un método de las cadenas, por lo que hay que escribir:\n",
    "```python\n",
    "print(len(\"hola\"))\n",
    "```\n",
    "\n",
    "Copia ese ejemplo aquí debajo y ejecútalo:"
   ]
  },
  {
   "cell_type": "code",
   "execution_count": 30,
   "id": "325adb39",
   "metadata": {},
   "outputs": [
    {
     "name": "stdout",
     "output_type": "stream",
     "text": [
      "4\n"
     ]
    }
   ],
   "source": [
    "print(len(\"hola\"))"
   ]
  },
  {
   "cell_type": "markdown",
   "id": "2feeccd4",
   "metadata": {},
   "source": [
    "Ten cuidado cuando copies fragmentos con varios paréntesis. **Debe haber tantos parentesis que se cierran como los que se han abierto**. Si no lo haces, habrá un error.\n",
    "\n",
    "Copia el mismo fragmento, pero ahora quítale el último paréntesis, para ver el error:"
   ]
  },
  {
   "cell_type": "code",
   "execution_count": 32,
   "id": "59b47927",
   "metadata": {},
   "outputs": [
    {
     "ename": "SyntaxError",
     "evalue": "unexpected EOF while parsing (802280407.py, line 1)",
     "output_type": "error",
     "traceback": [
      "\u001b[0;36m  Cell \u001b[0;32mIn[32], line 1\u001b[0;36m\u001b[0m\n\u001b[0;31m    print(len(\"hola\")\u001b[0m\n\u001b[0m                     ^\u001b[0m\n\u001b[0;31mSyntaxError\u001b[0m\u001b[0;31m:\u001b[0m unexpected EOF while parsing\n"
     ]
    }
   ],
   "source": [
    "print(len(\"hola\")"
   ]
  },
  {
   "cell_type": "markdown",
   "id": "07e46034",
   "metadata": {},
   "source": [
    "### Convertir una cadena\n",
    "\n",
    "Es muy útil, y muy común, convertir texto a números. Se usa la función `int()`.\n",
    "\n",
    "Eso sí, **dentro de los paréntesis tiene que haber una cadena que tenga un número entero**. Si no, habrá errores.\n",
    "\n",
    "Todas estas celdas, menos una, tendrán errores al ejecutarlas:"
   ]
  },
  {
   "cell_type": "code",
   "execution_count": 33,
   "id": "e4161f0e",
   "metadata": {},
   "outputs": [
    {
     "ename": "ValueError",
     "evalue": "invalid literal for int() with base 10: 'Hola'",
     "output_type": "error",
     "traceback": [
      "\u001b[0;31m---------------------------------------------------------------------------\u001b[0m",
      "\u001b[0;31mValueError\u001b[0m                                Traceback (most recent call last)",
      "Cell \u001b[0;32mIn[33], line 1\u001b[0m\n\u001b[0;32m----> 1\u001b[0m \u001b[39mint\u001b[39;49m(\u001b[39m'\u001b[39;49m\u001b[39mHola\u001b[39;49m\u001b[39m'\u001b[39;49m)\n",
      "\u001b[0;31mValueError\u001b[0m: invalid literal for int() with base 10: 'Hola'"
     ]
    }
   ],
   "source": [
    "int('Hola')"
   ]
  },
  {
   "cell_type": "code",
   "execution_count": 34,
   "id": "3e942a62",
   "metadata": {},
   "outputs": [
    {
     "ename": "ValueError",
     "evalue": "invalid literal for int() with base 10: '45.2'",
     "output_type": "error",
     "traceback": [
      "\u001b[0;31m---------------------------------------------------------------------------\u001b[0m",
      "\u001b[0;31mValueError\u001b[0m                                Traceback (most recent call last)",
      "Cell \u001b[0;32mIn[34], line 1\u001b[0m\n\u001b[0;32m----> 1\u001b[0m \u001b[39mint\u001b[39;49m(\u001b[39m'\u001b[39;49m\u001b[39m45.2\u001b[39;49m\u001b[39m'\u001b[39;49m)\n",
      "\u001b[0;31mValueError\u001b[0m: invalid literal for int() with base 10: '45.2'"
     ]
    }
   ],
   "source": [
    "int('45.2')"
   ]
  },
  {
   "cell_type": "code",
   "execution_count": 35,
   "id": "2e14bbde",
   "metadata": {},
   "outputs": [
    {
     "ename": "ValueError",
     "evalue": "invalid literal for int() with base 10: '32/2'",
     "output_type": "error",
     "traceback": [
      "\u001b[0;31m---------------------------------------------------------------------------\u001b[0m",
      "\u001b[0;31mValueError\u001b[0m                                Traceback (most recent call last)",
      "Cell \u001b[0;32mIn[35], line 1\u001b[0m\n\u001b[0;32m----> 1\u001b[0m \u001b[39mint\u001b[39;49m(\u001b[39m'\u001b[39;49m\u001b[39m32/2\u001b[39;49m\u001b[39m'\u001b[39;49m)\n",
      "\u001b[0;31mValueError\u001b[0m: invalid literal for int() with base 10: '32/2'"
     ]
    }
   ],
   "source": [
    "int('32/2')"
   ]
  },
  {
   "cell_type": "code",
   "execution_count": 36,
   "id": "b168abc8",
   "metadata": {},
   "outputs": [
    {
     "data": {
      "text/plain": [
       "-4"
      ]
     },
     "execution_count": 36,
     "metadata": {},
     "output_type": "execute_result"
    }
   ],
   "source": [
    "int('-4')"
   ]
  }
 ],
 "metadata": {
  "kernelspec": {
   "display_name": "Python 3.8.5 64-bit",
   "language": "python",
   "name": "python3"
  },
  "language_info": {
   "codemirror_mode": {
    "name": "ipython",
    "version": 3
   },
   "file_extension": ".py",
   "mimetype": "text/x-python",
   "name": "python",
   "nbconvert_exporter": "python",
   "pygments_lexer": "ipython3",
   "version": "3.8.5"
  },
  "vscode": {
   "interpreter": {
    "hash": "916dbcbb3f70747c44a77c7bcd40155683ae19c65e1c03b4aa3499c5328201f1"
   }
  }
 },
 "nbformat": 4,
 "nbformat_minor": 5
}
