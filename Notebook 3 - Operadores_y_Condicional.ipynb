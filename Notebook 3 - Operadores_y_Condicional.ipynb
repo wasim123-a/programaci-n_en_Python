{
 "cells": [
  {
   "cell_type": "markdown",
   "id": "24452769",
   "metadata": {},
   "source": [
    "Nombre:\n",
    "\n",
    "<u>                                                                  </u>"
   ]
  },
  {
   "cell_type": "markdown",
   "id": "c44ee87b",
   "metadata": {},
   "source": [
    "# Python: práctica 3\n",
    "\n",
    "En este *notebook* encontrarás unas explicaciones y ejercicios para afianzar tu conocimiento más básico sobre Python.\n",
    "\n",
    "Tu tarea es completar los ejercicios, grabar el notebook en la carpeta de tu repositorio Python, y subir los cambios a Internet.\n",
    "\n",
    "## Operadores al completo\n",
    "\n",
    "Hasta ahora hemos practicado con la suma y la multiplicación. Hay más. Bastantes más. \n",
    "\n",
    "Los **operadores**, como se ve en matemáticas, obtienen un resultado a partir de uno o más *operandos*.Por ejemplo, la suma utiliza dos sumandos (operandos), que representan el tamaño de dos subconjuntos de un conjunto numerable y nos ofrece como resultado el tamaño de otro subconjunto que es la proyección de ambos sobre otro subconjunto numerable, sin repetir elementos:\n",
    "\n",
    "![patitos](Imagenes/suma.png)\n",
    "\n",
    "Pero no todos los conjuntos son de este tipo, y los operadores tampoco. Por ejemplo, sobre el conjunto binario (\"verdadero\" o 1,  \"falso\" o 0), se pueden definir las operaciones *y* (*and*), *o* (*or*) y otras, cuyos resultados también están sobre dicho conjunto.\n",
    "\n",
    "Incluso se llegan a definir algunos operadores que tienen sus operandos en un conjunto numérico, pero que su resultado pertenece al conjunto binario. Es el caso de los operadores de comparación (mayor que, menor que, igual, distinto). También hay operadores que trabajan con números reales, pero sus resultados pertenecen a los números enteros, como el *valor absoluto*, o la *división truncada*.\n",
    "\n",
    "En la siguiente tabla tenemos la lista de todos los operadores disponibles en Python:"
   ]
  },
  {
   "cell_type": "markdown",
   "id": "6609939a",
   "metadata": {},
   "source": [
    "<table><tr>\n",
    "    <td>Operador</td><td>Tipo</td><td>Operación que realizan</td></tr>\n",
    "    <tr><td>+</td><td>Matemático</td><td>Sumas datos numéricos</td></tr>\n",
    "    <tr><td>-</td><td>Matemático</td><td>Restar datos numéricos</td></tr>\n",
    "    <tr><td>*</td><td>Matemático</td><td>Multiplicar datos numéricos</td></tr>\n",
    "    <tr><td>/</td><td>Matemático</td><td>División de 2 valores numéricos</td></tr>\n",
    "    <tr><td>//</td><td>Matemático</td><td>División entera, toma la parte entera del resultado</td></tr>\n",
    "    <tr><td>**</td><td>Matemático</td><td>Potenciación, para obtener un número elevado a un exponente</td></tr>\n",
    "    <tr><td>%</td><td>Matemático</td><td>Resto, módulo o residuo, se obtiene el resto de la división</td></tr>\n",
    "    <tr><td>+</td><td>Textos</td><td>Concatenación, unión de cadenas de texto</td></tr>\n",
    "    <tr><td>*</td><td>Textos</td><td>Repetir varias veces una misma cadena de texto</td></tr>\n",
    "    <tr><td>[]</td><td>Textos</td><td>Obtener partes de un texto</td></tr>\n",
    "    <tr><td> < </td><td>Comparación</td><td>Verdadero si el primer valor es menor que el segundo</td></tr>\n",
    "    <tr><td><=</td><td>Comparación</td><td>Un valor menor o igual que otro</td></tr>\n",
    "    <tr><td>></td><td>Comparación</td><td>Un valor mayor que otro</td></tr>\n",
    "    <tr><td>>=</td><td>Comparación</td><td>Un valor mayor o igual que otro</td></tr>\n",
    "    <tr><td>==</td><td>Comparación</td><td>Comprobar si dos valores son iguales</td></tr>\n",
    "    <tr><td>!=</td><td>Comparación</td><td>Comprobar si dos valores son diferentes</td></tr>\n",
    "    <tr><td>&</td><td>Comparación</td><td>Comprobar si se cumplen varias condiciones</td></tr>\n",
    "    <tr><td>|</td><td>Comparación</td><td>Comprobar si se cumple alguna de las condiciones</td></tr>\n",
    "    <tr><td>=</td><td>Asignación</td><td>Asignarle un valor a una variable. Ej.: x=5</td></tr>\n",
    "    <tr><td>+=</td><td>Asignación</td><td>Ej.: x+=1, es equivalente a, x=x+1</td></tr>\n",
    "    <tr><td>-=</td><td>Asignación</td><td>Ej.: x-=1, es equivalente a, x=x-1</td></tr>\n",
    "    <tr><td>*=</td><td>Asignación</td><td>Ej.: x*=2, es equivalente a, x=x*2</td></tr>\n",
    "    <tr><td>/=</td><td>Asignación</td><td>Ej.: x/=2, es equivalente a, x=x/2</td></tr>\n",
    "    <tr><td>%=</td><td>Asignación</td><td>Ej.: x%=2, es equivalente a, x=x%2</td></tr>\n",
    "</table>"
   ]
  },
  {
   "cell_type": "markdown",
   "id": "00b45339",
   "metadata": {},
   "source": [
    "Una expresión con operadores produce un resultado en **Jupyter** y también en un entorno de comandos de **python**, aunque no guardemos el resultado en ninguna variable. **Jupyter** tiene para cada celda un espacio de \"salida\". Hay instrucciones que producen escritura en la salida, y otras que no producen nada. \n",
    "\n",
    "La primera celda de aquí debajo solamente guarda el valor 7 en la variable a. La segunda celda, muestra como salida el valor 7."
   ]
  },
  {
   "cell_type": "code",
   "execution_count": 6,
   "id": "17489afa",
   "metadata": {},
   "outputs": [],
   "source": [
    "a=7"
   ]
  },
  {
   "cell_type": "code",
   "execution_count": 7,
   "id": "79dc81d0",
   "metadata": {},
   "outputs": [
    {
     "name": "stdout",
     "output_type": "stream",
     "text": [
      "7\n"
     ]
    }
   ],
   "source": [
    "print(7)"
   ]
  },
  {
   "cell_type": "markdown",
   "id": "bcaf25ef",
   "metadata": {},
   "source": [
    "También hay otras que realizan alguna operación, pero no les indicamos si el resultado se guarda o se imprimer. Entonces escriben un mensaje para el sistema o terminal, como si se tratara de la ejecución de esa operación, pero solamente para informarnos, sin que ese resultado sirva después para nada."
   ]
  },
  {
   "cell_type": "code",
   "execution_count": 8,
   "id": "de600e39",
   "metadata": {},
   "outputs": [
    {
     "data": {
      "text/plain": [
       "12"
      ]
     },
     "execution_count": 8,
     "metadata": {},
     "output_type": "execute_result"
    }
   ],
   "source": [
    "6*2"
   ]
  },
  {
   "cell_type": "markdown",
   "id": "9699d016",
   "metadata": {},
   "source": [
    "En este caso, bajo la operación, aparece el resultado, y también a su izquierda el aviso <span style=\"color:red\">Out[ ]</span> con el número de orden de ejecución de celda dentro de los corchetes.\n",
    "\n",
    "Esto nos permite una calculadora inmediata:"
   ]
  },
  {
   "cell_type": "code",
   "execution_count": 2,
   "id": "4fd586ee",
   "metadata": {},
   "outputs": [
    {
     "data": {
      "text/plain": [
       "True"
      ]
     },
     "execution_count": 2,
     "metadata": {},
     "output_type": "execute_result"
    }
   ],
   "source": [
    "(7 * 3) < 24"
   ]
  },
  {
   "cell_type": "markdown",
   "id": "c545b4c6",
   "metadata": {},
   "source": [
    "#### Ejercicio 1\n",
    "\n",
    "Calcula, usando las siguientes celdas:\n",
    "\n",
    "- La división entera de 19 entre 6\n",
    "\n",
    "- El resto de 29 entre 3, multiplicado por 2, menos (6 entre 3)\n",
    "\n",
    "- La unión de las cadenas de texto: \"Podía ser peor:\" y \" podía ponerse a llover\"\n",
    "\n",
    "- Si 3 * 4 es igual que 2 * 6"
   ]
  },
  {
   "cell_type": "code",
   "execution_count": 1,
   "id": "8f55e17e",
   "metadata": {},
   "outputs": [
    {
     "data": {
      "text/plain": [
       "3.1666666666666665"
      ]
     },
     "execution_count": 1,
     "metadata": {},
     "output_type": "execute_result"
    }
   ],
   "source": [
    "19/6"
   ]
  },
  {
   "cell_type": "code",
   "execution_count": 2,
   "id": "33692136",
   "metadata": {},
   "outputs": [
    {
     "data": {
      "text/plain": [
       "17.333333333333332"
      ]
     },
     "execution_count": 2,
     "metadata": {},
     "output_type": "execute_result"
    }
   ],
   "source": [
    "29/3*2-2"
   ]
  },
  {
   "cell_type": "code",
   "execution_count": null,
   "id": "1c29f446",
   "metadata": {},
   "outputs": [],
   "source": []
  },
  {
   "cell_type": "code",
   "execution_count": 7,
   "id": "f969d415",
   "metadata": {},
   "outputs": [
    {
     "data": {
      "text/plain": [
       "12"
      ]
     },
     "execution_count": 7,
     "metadata": {},
     "output_type": "execute_result"
    }
   ],
   "source": [
    "3*4\n",
    "2*6"
   ]
  },
  {
   "cell_type": "markdown",
   "id": "b5ee1102",
   "metadata": {},
   "source": [
    "# Instrucción condicional *if*\n",
    "\n",
    "\n",
    "La instrucción sirve para ejecutar un fragmento de código *si* se cumple una **condición**. La *condición* puede ser una *expresión* que devuelva un **valor**. El valor puede ser **verdadero** o **falso**, o también un número, teniendo en cuenta que el número 0 se considera falso, y cualquier otro se considera verdadero.\n",
    "\n",
    "Tras la condición se escriben los dos puntos reglamentarios para iniciar un bloque, y debajo se escriben las instrucciones del bloque, cumpliendo con la *identación* obligatoria de Python.\n",
    "\n",
    "```python\n",
    "a = int(input(\"escribe un número\"))\n",
    "if a >= 5:\n",
    "    print(\"Demasiado grande\")\n",
    "\n",
    "print(\"fin\")\n",
    "```\n",
    "\n",
    "En este ejemplo anterior, supongamos que vamos dando valores distintos a la variable **a**. Mientras ocurra que **a** vale menos que cinco, entonces no se hace el código dentro del bloque **if**. Pero si **a** vale cinco o más, entonces se imprime el mensaje de que es demasiado grande.\n",
    "\n",
    "Prueba el código, copiándolo en la siguiente celda (Quita las identaciones de sobra que se hayan pegado delante de cada línea):"
   ]
  },
  {
   "cell_type": "code",
   "execution_count": 5,
   "id": "219c4b0a",
   "metadata": {},
   "outputs": [
    {
     "name": "stdout",
     "output_type": "stream",
     "text": [
      "fin\n"
     ]
    }
   ],
   "source": [
    "a = int(input(\"escribe un número\"))\n",
    "if a >= 5:\n",
    "    print(\"Demasiado grande\")\n",
    "\n",
    "print(\"fin\")\n"
   ]
  },
  {
   "cell_type": "markdown",
   "id": "850a504b",
   "metadata": {},
   "source": [
    "## else\n",
    "\n",
    "La instrucción **if** tiene una palabra opcional, **else** para escribir un bloque de código que se ejecuta cuando la condición es falsa.\n",
    "\n",
    "```python\n",
    "a = int(input(\"escribe un número\"))\n",
    "if a >= 5:\n",
    "    print(\"Demasiado grande\")\n",
    "else:\n",
    "    print(\"Vaya, no llega a 6\")\n",
    "\n",
    "print(\"fin\")\n",
    "```\n",
    "\n",
    "La última instrucción (imprimir \"fin\") se ejecuta siempre, porque está fuera de los dos bloques de código de **if** y **else**.\n",
    "\n",
    "Esta instrucción es muy útil, porque evita errores cuando tenemos que hacer varias comprobaciones sucesivas y ninguna de las condiciones resulta verdadera. Comprueba el siguiente ejemplo:\n",
    "\n",
    "```python\n",
    "a = int(input(\"Pon tu edad: \")\n",
    "if a > 18:\n",
    "    print(\"Eres mayor de edad\")\n",
    "if a < 18:\n",
    "    print(\"Eres menor de edad\")\n",
    "print(\"Fin\")\n",
    "```\n",
    "\n",
    "Evidentemente, si introducimos el número 18, el programa no encuentra un **if** en el que se cumpla la condición, y no nos dice si somos mayores o menores. Usar **else** no garantiza que el programa sea correcto, ya que la solución al error está en usar el operador de comparación adecuado, que es >=. Pero hay menos posibilidad de error, porque solo tenemos que escribir una condición, así que en la segunda será imposible equivocarse.\n",
    "\n",
    "#### Ejercicio 2\n",
    "\n",
    "Escribe el programa anterior correctamente, usando **if** y **else**"
   ]
  },
  {
   "cell_type": "code",
   "execution_count": null,
   "id": "69a23874",
   "metadata": {},
   "outputs": [],
   "source": []
  },
  {
   "cell_type": "markdown",
   "id": "3db2e5e9",
   "metadata": {},
   "source": [
    "## Practicar en profundidad\n",
    "\n",
    "Es necesario dominar estas instrucciones para poder avanzar en el aprendizaje de cualquier lenguaje de programación. A continuación se plantean algunos ejercicios para afianzar lo aprendido.\n",
    "\n",
    "### If sucesivos\n",
    "\n",
    "Si tenemos que hacer comparaciones con varios números podríamos usar varios if, cada uno a continuación de otro, tal y como se ve en el ejemplo inicial de la mayoría de edad.\n",
    "#### Ejercicio 5\n",
    "\n",
    "Escribe un programa que pide un número. Con una serie de if, vamos a imprimir una rima para ese número. En *pseudocódigo* sería:\n",
    "\n",
    "    Pedir un número y guardarlo en una variable (por ejemplo, num)\n",
    "    Si num es igual a 1...\n",
    "        imprimir la rima del uno\n",
    "    Si num es igual a 2...\n",
    "        imprimir la rima del dos\n",
    "    Si num es igual a 3...\n",
    "        imprimir la rima del tres\n",
    "    Si num es igual a 4...\n",
    "        imprimir la rima del cuatro\n",
    "    Si num es igual o mayor que 5 ...\n",
    "        imprimir \"no tengo más rimas\"\n",
    "    Fin\n",
    " \n",
    "Podéis comprobar que si un programa necesita hacer muchas comparaciones, la posibilidad de equivocarnos aumenta."
   ]
  },
  {
   "cell_type": "code",
   "execution_count": null,
   "id": "893cf1ec",
   "metadata": {},
   "outputs": [],
   "source": []
  },
  {
   "cell_type": "markdown",
   "id": "2fa87531",
   "metadata": {},
   "source": [
    "### if - else\n",
    "\n",
    "#### Ejercicio 3\n",
    "\n",
    "Escribir un programa que pregunta nuestra edad, y utiliza un **if** y un **else** para informarnos acerca de si podemos sacarnos el carnet de conducir ciclomotores o no podemos (la edad límite es a partir de los 16 años)."
   ]
  },
  {
   "cell_type": "code",
   "execution_count": null,
   "id": "a6ed3ac0",
   "metadata": {},
   "outputs": [],
   "source": []
  },
  {
   "cell_type": "markdown",
   "id": "4df5dd1d",
   "metadata": {},
   "source": [
    "#### Ejercicio 4\n",
    "\n",
    "Escribe un programa que nos pide una palabra que empiece por 'h'. Si es correcto, se imprime \"la palabra es \", seguido de esa palabra. Si no lo es, aparece un aviso de error."
   ]
  },
  {
   "cell_type": "code",
   "execution_count": null,
   "id": "c602c44e",
   "metadata": {},
   "outputs": [],
   "source": []
  },
  {
   "cell_type": "markdown",
   "id": "dbdc9a79",
   "metadata": {},
   "source": [
    "#### Ejercicio 5\n",
    "\n",
    "Escribe ahora un programa que nos pide lo mismo que el anterior, una palabra que empiece por 'h'. Pero ahora, si la palabra no cumple la condición, el programa debe imprimir la palabra con una 'h' delante, **usando el operador de unir texto**."
   ]
  },
  {
   "cell_type": "code",
   "execution_count": null,
   "id": "d8eeed6a",
   "metadata": {},
   "outputs": [],
   "source": []
  },
  {
   "cell_type": "markdown",
   "id": "911da6ca",
   "metadata": {},
   "source": [
    "**Atención: es importante prestar atención a la identación. Una identación mal puesta dará errores en la ejecución**\n",
    "\n",
    "Por ejemplo:\n",
    "\n",
    "```python\n",
    "# Correcto:\n",
    "\n",
    "if (edad >= 18):\n",
    "    print(\"Es mayor de edad,\")\n",
    "    print(\"puede votar.\")\n",
    "else\n",
    "    print(\"No es mayor de edad,\")\n",
    "    print(\"no puede votar.\")\n",
    "print(\"Fin\")\n",
    "\n",
    "# Error 1: al existir un print a la derecha, Python cree que if ya ha terminado, lo\n",
    "# que provoca que el else de después no pertenezca a ningún if. Esto puede ser difícil\n",
    "# de ver cuando tenemos varios if anidados (lo veremos a continuación).\n",
    "\n",
    "if (edad >= 18):\n",
    "    print(\"Es mayor de edad,\")\n",
    "print(\"puede votar.\")\n",
    "else\n",
    "    print(\"No es mayor de edad,\")\n",
    "    print(\"no puede votar.\")\n",
    "print(\"Fin\")\n",
    "\n",
    "# Error 2: Todos los identados dentro de un bloque deben ser iguales. Python nos avisa si\n",
    "# no lo son con este error:\n",
    "#      IndentationError: unexpected indent\n",
    "\n",
    "if (edad >= 18):\n",
    "    print(\"Es mayor de edad,\")\n",
    "        print(\"puede votar.\")\n",
    "else\n",
    "    print(\"No es mayor de edad,\")\n",
    "    print(\"no puede votar.\")\n",
    "print(\"Fin\")\n",
    "\n",
    "# Error 3: o con este mensaje:\n",
    "#      IndentationError: unindent does not match any outer indentation level\n",
    "\n",
    "if (edad >= 18):\n",
    "        print(\"Es mayor de edad,\")\n",
    "    print(\"puede votar.\")\n",
    "else\n",
    "    print(\"No es mayor de edad,\")\n",
    "    print(\"no puede votar.\")\n",
    "print(\"Fin\")\n",
    "\n",
    "```\n",
    "### If anidados\n",
    "Se pueden utilizar instrucciones if dentro de otras instrucciones. Es una construcción muy frecuente, y que es menos propensa a errores que los **if** sucesivos. Con una serie de **if** sucesivos no podría hacerse el siguiente programa:\n",
    "\n",
    "```python\n",
    "a = int(input(\"Escribe tu edad: \")\n",
    "if a < 18:\n",
    "    if a < 12:\n",
    "        print(\"Eres un niño, y te toca vacunarte en diciembre\")\n",
    "    else:\n",
    "        print(\"Eres menor de edad, y te vacunaste en el verano pasado\")\n",
    "else:\n",
    "    if a >= 60:\n",
    "        print(\"Es usted de los primeros que se vacunó\")\n",
    "    else:\n",
    "        print(\"Se vacunó usted después de las personas de más de 60 años\")\n",
    "```\n",
    "\n",
    "Copia este programa en la celda de abajo y pruébalo:"
   ]
  },
  {
   "cell_type": "code",
   "execution_count": null,
   "id": "c7521dac",
   "metadata": {},
   "outputs": [],
   "source": []
  },
  {
   "cell_type": "markdown",
   "id": "51e67681",
   "metadata": {},
   "source": [
    "#### Ejercicio 6\n",
    "\n",
    "Escribe un programa que haga lo siguiente:\n",
    "\n",
    "- Pide un número entre uno y 100\n",
    "  * Si el número es mayor que 100 imprime un error\n",
    "  * Si no lo es, entonces pide otro número, menor que el primero\n",
    "    * Si es menor, calculamos e imprimimos el primero menos el segundo\n",
    "    * Si no es menor que el primero imprime otro error"
   ]
  },
  {
   "cell_type": "code",
   "execution_count": null,
   "id": "26b9b487",
   "metadata": {},
   "outputs": [],
   "source": []
  },
  {
   "cell_type": "markdown",
   "id": "c55de38a",
   "metadata": {},
   "source": [
    "## elif\n",
    "\n",
    "En ocasiones podemos facilitar la lectura de una serie de instrucciones **if** utilizando la instrucción **elif**. La segunda ventaja es que una vez que una comparación resulta verdadera, ya no se interpretan las siguientes, y eso ahorra tiempo de ejecución del programa:\n",
    "```python\n",
    "fruta = input(\"nombra una fruta, en letras minúsculas: \")\n",
    "if fruta == 'manzana':\n",
    "    print(\"Hay variedades amarillas, verdes y rojas.\")\n",
    "elif fruta == 'naranja':\n",
    "    print(\"La flor del árbol que la produce se llama 'azahar'\")\n",
    "elif fruta == 'granada':\n",
    "    print(\"Se recolecta en otoño.\")\n",
    "elif fruta == 'melocotón':\n",
    "    print(\"Su piel es aterciopelada.\")\n",
    "else\n",
    "    print(\"No conozco esa fruta.\")\n",
    "print(\"Adiós.\")\n",
    "```\n",
    "\n",
    "En las estructuras if ... elif ... else ... el orden en que se escriben los casos es importante y, a menudo, se pueden simplificar las condiciones ordenando adecuadamente los casos.\n",
    "\n",
    "#### Ejercicio 7\n",
    "Consideremos un programa que pide la edad y en función del valor recibido da un mensaje diferente. Podemos distinguir, por ejemplo, tres situaciones:\n",
    "\n",
    "- si el valor es negativo, se trata de un error\n",
    "- si el valor está entre 0 y 17, se trata de un menor de edad\n",
    "- si el valor es superior o igual a 18, se trata de un menor de edad\n"
   ]
  },
  {
   "cell_type": "code",
   "execution_count": null,
   "id": "6ec62432",
   "metadata": {},
   "outputs": [],
   "source": []
  },
  {
   "cell_type": "markdown",
   "id": "126c5f7c",
   "metadata": {},
   "source": [
    "#### Ejercicio 8\n",
    "Escribe un programa que debe realizar la división de dos números. Por lo tanto, primero solicitará que introduzcamos dos números, el dividendo y el divisor.\n",
    "No se puede dividir por cero, así que utilizaremos un **if** para detectar si el divisor es 0. Si ocurre eso, imprime un error. Si no, se imprime el resultado de la división."
   ]
  },
  {
   "cell_type": "code",
   "execution_count": null,
   "id": "5740e20f",
   "metadata": {},
   "outputs": [],
   "source": []
  },
  {
   "cell_type": "markdown",
   "id": "2466d5a0",
   "metadata": {},
   "source": [
    "## Alterar el funcionamiento de un bucle.\n",
    "\n",
    "Se usan tres palabras reservadas para cambiar cómo funcionan *for* y *while*. Se trata de **break**, **continue** y **pass**\n",
    "\n",
    "- **break** termina el funcionamiento del bucle. Lo termina en ese momento, y el programa continuará en la instrucción siguiente al bloque.\n",
    "\n",
    "- **continue** rompe la repetición que hay en marcha. Es decir, deja de hacer las instrucciones siguientes del bloque, y empieza la próxima repetición desde el principio.\n",
    "\n",
    "- **pass** tiene un uso especial: no hace nada, pero es necesario colocarla dentro de bloques *if* que deben tener algo dentro, pero todavía no lo hemos escrito.\n",
    "\n",
    "Estas instrucciones suelen escribirse dentro de instrucciones condicionales que están dentro de bucles *for* o *while*.\n",
    "Analiza los siguientes ejemplos, que van acompañados de su resultado:\n",
    "\n",
    "```python\n",
    "a = 3\n",
    "for i in range(10):\n",
    "    if i == a:\n",
    "        print(\"He llegado al 3\")\n",
    "        break\n",
    "    print(i*3)\n",
    "print(\"Fin\")\n",
    "```\n",
    "\n",
    "    0\n",
    "    3\n",
    "    6\n",
    "    He llegado al 3\n",
    "    Fin\n",
    "    \n",
    "```python    \n",
    "a = 3\n",
    "for i in range(10):\n",
    "    if i == a:\n",
    "        print(\"He llegado al 3, así que me lo salto\")\n",
    "        continue\n",
    "    print(i*3)\n",
    "print(\"Fin\")\n",
    "```\n",
    "\n",
    "    0\n",
    "    3\n",
    "    6\n",
    "    He llegado al 3, así que me lo salto\n",
    "    12\n",
    "    15\n",
    "    Fin\n",
    "  \n",
    "```python  \n",
    "a = 3\n",
    "for i in range(6):\n",
    "    if i == a:\n",
    "        pass\n",
    "        #aquí tengo que notificar al usuario y hacer un cálculo muy complejo\n",
    "        #pero todavía no sé cómo.\n",
    "    print(i*3)\n",
    "print(\"Fin\")\n",
    "```\n",
    "\n",
    "    0\n",
    "    3\n",
    "    6\n",
    "    9\n",
    "    12\n",
    "    15\n",
    "    Fin\n",
    "    \n",
    "Vamos a trabajar con la tabla de multiplicar que hicimos con *for*. El programa era el siguiente:\n",
    "\n",
    "```python\n",
    "numero = int(input(\"¿De qué número hacemos la tabla? \")\n",
    "print(\"Ok. Vamos con la tabla del \", numero)\n",
    " \n",
    "for i in range(1, 11):\n",
    "    print(i, \"por\", numero, \" = \", i*numero)\n",
    "\n",
    "print(\"He terminado, oh, mi amo.\")\n",
    "```\n",
    "\n",
    "Supongamos que quiero hacer las diez tablas de multiplicar. Habrá que poner un *for* dentro de otro. El primero tiene que usar una variable **i**, y el segundo podría usar la variable **numero**. Lo normal, sin embargo, es usar **j** cuando se anidan bucles.\n",
    "\n",
    "```python\n",
    "for i in range(1, 11):\n",
    "    for j in range(1, 11):\n",
    "        print(i*j)\n",
    "print(\"Fin\")\n",
    "```\n",
    "\n",
    "Por supuesto, este programa está reducido al mínimo, para que se vea claramente lo que hace. Lo único molesto es que, al ejecutarlo, imprime todos los resultados sin distinguir una tabla de otra, ni darnos mensaje de cuáles son los números que estamos multiplicando.\n",
    "\n",
    "#### Ejercicio 9\n",
    "\n",
    "Ya no necesito imprimir *todos los resultados de la tabla*. Ahora solamente quiero imprimir los dos primeros factores (o sea, un valor de **i** y otro de **j**) que dan como resultado un número (menor que 100) que el programa nos ha preguntado antes.\n",
    "\n",
    "El programa, en *pseudocódigo* será:\n",
    "\n",
    "    preguntar por un número menor que 100 y guardar ese número en una variable\n",
    "    empezar el bucle i\n",
    "        empezar el bucle j\n",
    "            si (número es igual que i*j)...\n",
    "                romper el bucle j  #Ojo: no puedo romper a la vez i y j\n",
    "        si (número es igual que i*j)...\n",
    "            romper el bucle i\n",
    "    Imprimir i y j\n",
    "    Fin\n",
    "\n",
    "Escribe ahora el programa en Python, con la instrucción **break**: "
   ]
  },
  {
   "cell_type": "code",
   "execution_count": null,
   "id": "9d5bd869",
   "metadata": {
    "scrolled": true
   },
   "outputs": [],
   "source": []
  },
  {
   "cell_type": "markdown",
   "id": "b97387e1",
   "metadata": {},
   "source": [
    "#### Ejercicio 10\n",
    "\n",
    "El programa tiene un comportamiento que no es totalmente adecuado: cuando el número es primo, no se va a encontrar una pareja de factores que encuentre nuestro resultado. Lo puedes comprobar introduciendo cualquier primo, como el 17, o el 47, cuando ejecutas el programa.\n",
    "\n",
    "Si no se encuentra ninguna combinación, habrá un momento en el que i por j sea mayor que el número que estamos buscando. Si ocurre eso, podemos romper el bucle (los dos bucles, o uno solo, pero en este caso, ¿será el interno o el externo?), tras haber escrito un mensaje diciendo que el *número es primo*."
   ]
  },
  {
   "cell_type": "code",
   "execution_count": null,
   "id": "2d9ea425",
   "metadata": {},
   "outputs": [],
   "source": []
  },
  {
   "cell_type": "markdown",
   "id": "5f7f9088",
   "metadata": {},
   "source": [
    "#### Ejercicio 11\n",
    "\n",
    "El último programa nos imprime el resultado de mezclar dos colores primarios.\n",
    "\n",
    "- Introducimos el primer color, a elegir entre dos que ofrece el programa, por ejemplo amarillo y rojo.\n",
    "  * Si no es uno de estos, imprimimos un error. Podemos utilizar el operador de desigualdad, !=\n",
    "  * Si es el amarillo, pedimos un segundo color, a elegir entre los dos no elegidos antes, es decir, el rojo y el azul.\n",
    "    * Si es el rojo, damos el resultado de la mezcla.\n",
    "    * Si es el azul, damos el resultado.\n",
    "    * Si no es ninguno, se trata de un error, y habrá que avisar.\n",
    "  * Si el primer color era el otro, es decir, el rojo en este ejemplo, entonces pedimos el segundo color, a elegir entre los dos no elegidos (amarillo y azul).\n",
    "    * Si el segundo color es el amarillo, damos su resultado.\n",
    "    * Si es al azul, damos el resultado.\n",
    "    * Si no es ninguno, avisamos del error.\n",
    "\n",
    "Según el esquema propuesto, hemos avisado del error al elegir el primer color antes de comparar con los dos primeros colores propuestos. Esto obliga a realizar una primera comparación complicada. Podemos diseñarla de manera más fácil, usando el orden de comparaciones propuesto para el segundo color."
   ]
  },
  {
   "cell_type": "code",
   "execution_count": null,
   "id": "fd7ebf39",
   "metadata": {},
   "outputs": [],
   "source": []
  }
 ],
 "metadata": {
  "kernelspec": {
   "display_name": "Python 3.8.5 64-bit",
   "language": "python",
   "name": "python3"
  },
  "language_info": {
   "codemirror_mode": {
    "name": "ipython",
    "version": 3
   },
   "file_extension": ".py",
   "mimetype": "text/x-python",
   "name": "python",
   "nbconvert_exporter": "python",
   "pygments_lexer": "ipython3",
   "version": "3.8.5"
  },
  "vscode": {
   "interpreter": {
    "hash": "916dbcbb3f70747c44a77c7bcd40155683ae19c65e1c03b4aa3499c5328201f1"
   }
  }
 },
 "nbformat": 4,
 "nbformat_minor": 5
}
