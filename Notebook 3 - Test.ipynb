{
 "cells": [
  {
   "cell_type": "code",
   "execution_count": 10,
   "id": "4d4a9147",
   "metadata": {},
   "outputs": [
    {
     "data": {
      "text/html": [
       "<script>\n",
       "    // AUTORUN ALL CELLS ON NOTEBOOK-LOAD!\n",
       "    require(\n",
       "        ['base/js/namespace', 'jquery'], \n",
       "        function(jupyter, $) {\n",
       "            $(jupyter.events).on(\"kernel_ready.Kernel\", function () {\n",
       "                console.log(\"Auto-running all cells-below...\");\n",
       "                jupyter.actions.call('jupyter-notebook:run-all-cells-below');\n",
       "                jupyter.actions.call('jupyter-notebook:save-notebook');\n",
       "            });\n",
       "        }\n",
       "    );\n",
       "</script>\n"
      ],
      "text/plain": [
       "<IPython.core.display.HTML object>"
      ]
     },
     "metadata": {},
     "output_type": "display_data"
    }
   ],
   "source": [
    "%%html\n",
    "<script>\n",
    "    // AUTORUN ALL CELLS ON NOTEBOOK-LOAD!\n",
    "    require(\n",
    "        ['base/js/namespace', 'jquery'], \n",
    "        function(jupyter, $) {\n",
    "            $(jupyter.events).on(\"kernel_ready.Kernel\", function () {\n",
    "                console.log(\"Auto-running all cells-below...\");\n",
    "                jupyter.actions.call('jupyter-notebook:run-all-cells-below');\n",
    "                jupyter.actions.call('jupyter-notebook:save-notebook');\n",
    "            });\n",
    "        }\n",
    "    );\n",
    "</script>"
   ]
  },
  {
   "cell_type": "code",
   "execution_count": 11,
   "id": "a9d2900b",
   "metadata": {
    "scrolled": true
   },
   "outputs": [
    {
     "data": {
      "text/html": [
       "<script>\n",
       "code_show=true; \n",
       "function code_toggle() {\n",
       " if (code_show){\n",
       " $('div.input').hide();\n",
       " } else {\n",
       " $('div.input').show();\n",
       " }\n",
       " code_show = !code_show\n",
       "} \n",
       "$( document ).ready(code_toggle);\n",
       "</script>\n",
       "<form action=\"javascript:code_toggle()\"><input type=\"submit\" value=\"Click here to toggle on/off the raw code.\"></form>"
      ],
      "text/plain": [
       "<IPython.core.display.HTML object>"
      ]
     },
     "execution_count": 11,
     "metadata": {},
     "output_type": "execute_result"
    }
   ],
   "source": [
    "from IPython.display import HTML\n",
    "\n",
    "HTML('''<script>\n",
    "code_show=true; \n",
    "function code_toggle() {\n",
    " if (code_show){\n",
    " $('div.input').hide();\n",
    " } else {\n",
    " $('div.input').show();\n",
    " }\n",
    " code_show = !code_show\n",
    "} \n",
    "$( document ).ready(code_toggle);\n",
    "</script>\n",
    "<form action=\"javascript:code_toggle()\"><input type=\"submit\" value=\"Click here to toggle on/off the raw code.\"></form>''')"
   ]
  },
  {
   "cell_type": "code",
   "execution_count": 12,
   "id": "efc6866f",
   "metadata": {},
   "outputs": [
    {
     "data": {
      "text/html": [
       "<script>\n",
       " $('div.input').hide();\n",
       "</script>"
      ],
      "text/plain": [
       "<IPython.core.display.HTML object>"
      ]
     },
     "execution_count": 12,
     "metadata": {},
     "output_type": "execute_result"
    }
   ],
   "source": [
    "HTML('''<script>\n",
    " $('div.input').hide();\n",
    "</script>''')"
   ]
  },
  {
   "cell_type": "code",
   "execution_count": 13,
   "id": "d1bb6902",
   "metadata": {
    "tags": [
     "hide_code"
    ]
   },
   "outputs": [
    {
     "data": {
      "application/vnd.jupyter.widget-view+json": {
       "model_id": "fa93401d150f4df7bbdc5009d0d0aca9",
       "version_major": 2,
       "version_minor": 0
      },
      "text/plain": [
       "VBox(children=(VBox(children=(HTML(value='<h2>1. ¿Cuál es el resultado del siguiente código?</h2><br>\\n       …"
      ]
     },
     "metadata": {},
     "output_type": "display_data"
    }
   ],
   "source": [
    "from ipywidgets import *\n",
    "selecciones = [0,0,0,[0,0,0,0],0]\n",
    "\n",
    "texto1 = HTML(\n",
    "    value= '''<h2>1. ¿Cuál es el resultado del siguiente código?</h2><br>\n",
    "                   <code>y = 2 + 3 * 5.\n",
    "print( Y )</code>'''\n",
    ")\n",
    "preg1 = RadioButtons(\n",
    "    options=['A. 25.0','B. 17','C. 25','D. El código ocasionará un error de ejecución', 'E. 17.0'],\n",
    "    layout={'width': 'max-content'}\n",
    ")\n",
    "\n",
    "texto2 = HTML(\n",
    "    value= '''<h2>2. ¿Cuál es la salida del siguiente fragmento de código?</h2><br><code>\n",
    "x = 1\n",
    "y = 2\n",
    "z = x\n",
    "x = y\n",
    "y = z\n",
    "\n",
    "print(x, y)</code>'''\n",
    ")\n",
    "preg2 = RadioButtons(\n",
    "    options=['A. 1 2','B. 2 2','C. 1 1','D. 2 1'],\n",
    "\n",
    ")\n",
    "\n",
    "texto3 = HTML(\n",
    "    value= '''<h2>3. ¿Cuál es el resultado del siguiente código si se introduce un 2 y un 4 respectivamente?</h2><br>\n",
    "                   <code>x = int(input())\n",
    "y = int(input())\n",
    "\n",
    "x = x / y\n",
    "y = y / x\n",
    "\n",
    "print( y )</code>'''\n",
    "\n",
    ")\n",
    "preg3 = RadioButtons(\n",
    "    options=['A. El código ocasionará un error de ejecución','B. 4.0','C. 8.0','D. 2.0']\n",
    ")\n",
    "\n",
    "texto4 = HTML(\n",
    "    value= '''<h2>4. ¿Cuáles de los siguientes nombres de variable son ilegales? (Señala las opciones que consideres)</h2><br>\n",
    "                   <code>y = 2 + 3 * 5.\n",
    "print( Y )</code>'''\n",
    ")\n",
    "preg4 = SelectMultiple(\n",
    "    options=['A. True','B. False','C. true','D. FALSE']\n",
    ")\n",
    "\n",
    "texto5 = HTML(\n",
    "    value= '''<h2>5. ¿Cuál es el resultado del siguiente código?</h2><br>\n",
    "<code>z = y = x = 1\n",
    "\n",
    "print(x, y, z, sep='*')</code>'''\n",
    "\n",
    ")\n",
    "preg5 = RadioButtons(\n",
    "    options=['A. x*y*z','B. 1 1 1 ','C. 1*1*1','D. x y z']\n",
    ")\n",
    "output = Output()\n",
    "\n",
    "def on_enviar_clicked(b):\n",
    "    selecciones[0] = preg1.value\n",
    "    selecciones[1] = preg2.value\n",
    "    selecciones[2] = preg3.value\n",
    "    selecciones[3] = preg4.value\n",
    "    selecciones[4] = preg5.value\n",
    "    with output:\n",
    "        if selecciones == ['D. El código ocasionará un error de ejecución',\n",
    " 'D. 2 1',\n",
    " 'C. 8.0',\n",
    " ('A. True', 'B. False'),\n",
    " 'C. 1*1*1']:\n",
    "            print(\"Todo correcto.\")\n",
    "        else:\n",
    "            print(\"Hay algún error.\")\n",
    "        \n",
    "\n",
    "enviar = Button(description=\"Corregir\")\n",
    "enviar.on_click(on_enviar_clicked)\n",
    "\n",
    "display(VBox([VBox([texto1, preg1]),\n",
    "              VBox([texto2, preg2]),\n",
    "              VBox([texto3, preg3]),\n",
    "              VBox([texto4, preg4]),\n",
    "              VBox([texto5, preg5]),\n",
    "              enviar, output]))"
   ]
  },
  {
   "cell_type": "code",
   "execution_count": null,
   "id": "7836de9a",
   "metadata": {},
   "outputs": [],
   "source": []
  }
 ],
 "metadata": {
  "kernelspec": {
   "display_name": "Python 3.8.5 64-bit",
   "language": "python",
   "name": "python3"
  },
  "language_info": {
   "codemirror_mode": {
    "name": "ipython",
    "version": 3
   },
   "file_extension": ".py",
   "mimetype": "text/x-python",
   "name": "python",
   "nbconvert_exporter": "python",
   "pygments_lexer": "ipython3",
   "version": "3.8.5"
  },
  "vscode": {
   "interpreter": {
    "hash": "916dbcbb3f70747c44a77c7bcd40155683ae19c65e1c03b4aa3499c5328201f1"
   }
  }
 },
 "nbformat": 4,
 "nbformat_minor": 5
}
